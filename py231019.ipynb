{
  "nbformat": 4,
  "nbformat_minor": 0,
  "metadata": {
    "colab": {
      "provenance": [],
      "authorship_tag": "ABX9TyO7Gg03vX+nxR6QUGFlKS6a",
      "include_colab_link": true
    },
    "kernelspec": {
      "name": "python3",
      "display_name": "Python 3"
    },
    "language_info": {
      "name": "python"
    }
  },
  "cells": [
    {
      "cell_type": "markdown",
      "metadata": {
        "id": "view-in-github",
        "colab_type": "text"
      },
      "source": [
        "<a href=\"https://colab.research.google.com/github/Ohsohyun/code_3rd/blob/main/py231019.ipynb\" target=\"_parent\"><img src=\"https://colab.research.google.com/assets/colab-badge.svg\" alt=\"Open In Colab\"/></a>"
      ]
    },
    {
      "cell_type": "markdown",
      "source": [
        "1. To-Do list를 작성하시오.\n",
        "-2023년 10월 19일 오소현\n",
        "\n",
        " - (1) 도서관에서 책 빌리기\n",
        " - (2) 11:10 컴퓨팅적사고와 기초코딩 수업\n",
        " - (3) 13:00 점심식사\n",
        " - (4) 14:10 교양수업\n",
        " - (5) 16:00 파이썬 공부 및 레포트 작성\n",
        " - (6) 17:40 저녁식사및 집안일 돕기\n",
        " - (7) 19:00 LOL하기"
      ],
      "metadata": {
        "id": "Ytk322lXDKk6"
      }
    },
    {
      "cell_type": "code",
      "execution_count": 1,
      "metadata": {
        "colab": {
          "base_uri": "https://localhost:8080/"
        },
        "id": "IKyYy-0eB7w0",
        "outputId": "b6ecde1e-7f21-490c-d61d-c258fa16a5c0"
      },
      "outputs": [
        {
          "output_type": "stream",
          "name": "stdout",
          "text": [
            "To-do list\n",
            "(1) 도서관에서 책 빌리기\n",
            "(2) 11:10 컴퓨티적 사고와 기초 코딩 수업\n",
            "(3) 13:00 점심식사\n",
            "(4) 14:10 교양 수업\n",
            "(5) 16:00 파이썬 공부 및 집안일 돕기\n",
            "(6) 17:40 저녁식사 및 집안일 돕기\n",
            "(7) 19:00 LOL하기\n"
          ]
        }
      ],
      "source": [
        "# 일정 목록을 출력합니다.\n",
        "print(\"To-do list\")\n",
        "print(\"(1) 도서관에서 책 빌리기\")\n",
        "print(\"(2) 11:10 컴퓨티적 사고와 기초 코딩 수업\")\n",
        "print(\"(3) 13:00 점심식사\")\n",
        "print(\"(4) 14:10 교양 수업\")\n",
        "print(\"(5) 16:00 파이썬 공부 및 집안일 돕기\")\n",
        "print(\"(6) 17:40 저녁식사 및 집안일 돕기\")\n",
        "print(\"(7) 19:00 LOL하기\")"
      ]
    },
    {
      "cell_type": "markdown",
      "source": [
        "2. 인사말 출력하기\n",
        " - 식사하셨습니까? 형님"
      ],
      "metadata": {
        "id": "AghW8DXYDnNe"
      }
    },
    {
      "cell_type": "code",
      "source": [
        "# 인사말을 출력합니다.\n",
        "print(\"인사말 출력하기\")\n",
        "print(\"식사하셨습니까? 형님\")"
      ],
      "metadata": {
        "colab": {
          "base_uri": "https://localhost:8080/"
        },
        "id": "mV7ZgtEvDxZC",
        "outputId": "5d710e3d-8775-45b5-d9df-55c35e8b4df8"
      },
      "execution_count": 2,
      "outputs": [
        {
          "output_type": "stream",
          "name": "stdout",
          "text": [
            "인사말 출력하기\n",
            "식사하셨습니까? 형님\n"
          ]
        }
      ]
    },
    {
      "cell_type": "markdown",
      "source": [
        "3. 학생 4명의 국어점수를 입력받아서 아래와 같이 출력하시오.\n",
        " - 박보검: 90점\n",
        " - 션: 92점\n",
        " - 도룡용: 80점\n",
        " - 차은우: 99점\n",
        " - 국어 점수 순위\n",
        " - 1등 차은우\n",
        " - 2등 션\n",
        " - 3등 박보검\n",
        " - 4등 도룡용"
      ],
      "metadata": {
        "id": "CenXLCl0EEqD"
      }
    },
    {
      "cell_type": "code",
      "source": [
        "# 학생들의 국어 점수를 입력받는 부분입니다.\n",
        "n1 = input(\"박보검의 국어 점수: \")\n",
        "n2 = input(\"션의 국어 점수: \")\n",
        "n3 = input(\"도룡용의 국어 점수: \")\n",
        "n4 = input(\"차은우의 국어 점수: \")\n",
        "\n",
        "# 등수와 점수를 출력하는 부분입니다.\n",
        "print(\"1등 차은우\", n4, \"점\")\n",
        "print(\"2등 션\", n2, \"점\")\n",
        "print(\"3등 박보검\", n1, \"점\")\n",
        "print(\"4등 도룡용\", n3, \"점\")\n"
      ],
      "metadata": {
        "colab": {
          "base_uri": "https://localhost:8080/"
        },
        "id": "gOT98r8kEPhn",
        "outputId": "243afae8-e393-40b6-c00e-d34ba980356b"
      },
      "execution_count": 3,
      "outputs": [
        {
          "output_type": "stream",
          "name": "stdout",
          "text": [
            "박보검의 국어 점수: 90\n",
            "션의 국어 점수: 92\n",
            "도룡용의 국어 점수: 80\n",
            "차은우의 국어 점수: 99\n",
            "1등 차은우 99 점\n",
            "2등 션 92 점\n",
            "3등 박보검 90 점\n",
            "4등 도룡용 80 점\n"
          ]
        }
      ]
    },
    {
      "cell_type": "markdown",
      "source": [
        "4. 두개의 점수를 입력받아서 합계와 평균을 출력하시오."
      ],
      "metadata": {
        "id": "oK-kz4PfEfiT"
      }
    },
    {
      "cell_type": "code",
      "source": [
        "# n1의 값을 입력받는 부분입니다.\n",
        "n1 = int(input(\"n1의 값을 입력하시오: \"))\n",
        "\n",
        "# n2의 값을 입력받는 부분입니다.\n",
        "n2 = int(input(\"n2의 값을 입력하시오: \"))\n",
        "\n",
        "# 두 값의 합을 계산하는 부분입니다.\n",
        "total = n1 + n2\n",
        "\n",
        "# 두 값의 평균을 계산하는 부분입니다.\n",
        "average = total / 2\n",
        "\n",
        "# 합을 출력합니다.\n",
        "print(total)\n",
        "\n",
        "# 평균을 출력합니다.\n",
        "print(average)"
      ],
      "metadata": {
        "colab": {
          "base_uri": "https://localhost:8080/"
        },
        "id": "3ZSUvI0nEkL5",
        "outputId": "f6e6f5da-dc9d-4ad7-d509-af2315ad6d34"
      },
      "execution_count": 4,
      "outputs": [
        {
          "output_type": "stream",
          "name": "stdout",
          "text": [
            "n1의 값을 입력하시오: 50\n",
            "n2의 값을 입력하시오: 55\n",
            "105\n",
            "52.5\n"
          ]
        }
      ]
    }
  ]
}