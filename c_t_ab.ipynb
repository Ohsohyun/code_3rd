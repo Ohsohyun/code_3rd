{
  "nbformat": 4,
  "nbformat_minor": 0,
  "metadata": {
    "colab": {
      "provenance": [],
      "authorship_tag": "ABX9TyP1f0R4DhrP3ahtAj0xpT1E",
      "include_colab_link": true
    },
    "kernelspec": {
      "name": "python3",
      "display_name": "Python 3"
    },
    "language_info": {
      "name": "python"
    }
  },
  "cells": [
    {
      "cell_type": "markdown",
      "metadata": {
        "id": "view-in-github",
        "colab_type": "text"
      },
      "source": [
        "<a href=\"https://colab.research.google.com/github/Ohsohyun/code_3rd/blob/main/c_t_ab.ipynb\" target=\"_parent\"><img src=\"https://colab.research.google.com/assets/colab-badge.svg\" alt=\"Open In Colab\"/></a>"
      ]
    },
    {
      "cell_type": "markdown",
      "source": [
        "1. 일한 시간과 시급을 예상하여 출력하는 코드"
      ],
      "metadata": {
        "id": "9h7YgJ6zFDOK"
      }
    },
    {
      "cell_type": "code",
      "execution_count": null,
      "metadata": {
        "id": "26DyfZXoE-M6"
      },
      "outputs": [],
      "source": [
        "# 일한 시간을 입력받는 부분입니다.\n",
        "hours_worked = int(input(\"일한 시간을 입력하시오: \"))\n",
        "\n",
        "# 시급을 입력받는 부분입니다.\n",
        "pay_rate = int(input(\"시급을 입력하시오(23년 시급 9620): \"))\n",
        "\n",
        "# 일한 날짜를 입력받는 부분입니다.\n",
        "days_worked = int(input(\"일한 날짜를 입력하시오: \"))\n",
        "\n",
        "# 한 달 동안의 총 근무 시간을 계산하는 부분입니다.\n",
        "monthly_hours = hours_worked * days_worked\n",
        "\n",
        "# 월급여를 계산하는 부분입니다.\n",
        "monthly_pay = monthly_hours * pay_rate\n",
        "\n",
        "# 결과를 출력하는 부분입니다.\n",
        "print(f\"일한 시간은 {hours_worked}시간이며, 시급은 {pay_rate}원이고, 월급여는 {monthly_pay}원입니다.\")"
      ]
    },
    {
      "cell_type": "markdown",
      "source": [
        "2. 환전하는 코드를 작성\n",
        " - 변수는 won,usd, exchange\n",
        " - 계산 won * usd"
      ],
      "metadata": {
        "id": "Nz1zSW0WFRtJ"
      }
    },
    {
      "cell_type": "code",
      "source": [
        "# 환전할 달러를 입력받는 부분입니다.\n",
        "usd = int(input(\"환전할 달러를 입력하세요: \"))\n",
        "\n",
        "# 달러의 환율금액을 입력받는 부분입니다.\n",
        "won = int(input(\"달러의 환율금액을 입력하세요 (예: 231031: 1372원): \"))\n",
        "\n",
        "# 환전된 원화를 계산하는 부분입니다.\n",
        "exchange = won * usd\n",
        "\n",
        "# 결과를 출력하는 부분입니다.\n",
        "print(f\"환전하고 싶은 {usd}달러는 환율 {won}으로 계산하면, {exchange}원입니다.\")"
      ],
      "metadata": {
        "colab": {
          "base_uri": "https://localhost:8080/"
        },
        "id": "gkIhyEQFFXgH",
        "outputId": "3632b283-0546-463c-bd93-435ff7bac1b6"
      },
      "execution_count": 1,
      "outputs": [
        {
          "output_type": "stream",
          "name": "stdout",
          "text": [
            "환전할 달러를 입력하세요: 500\n",
            "달러의 환율금액을 입력하세요 (예: 231031: 1372원): 1372\n",
            "환전하고 싶은 500달러는 환율 1372으로 계산하면, 686000원입니다.\n"
          ]
        }
      ]
    },
    {
      "cell_type": "markdown",
      "source": [
        "화씨를 섭씨로 섭씨를 하씨로 변환하는 코드\n",
        "\n",
        " - 화씨를 섭씨로\"F = ℃ * 1.8 + 32\n",
        " - 섭씨를 하씨로 ℃ = (\"F - 32) / 1.8\n",
        " - 변수 : 화씨 fahrenheit, 섭씨 ceisious"
      ],
      "metadata": {
        "id": "8VVvCMTYFyt4"
      }
    },
    {
      "cell_type": "code",
      "source": [
        "# 화씨 온도를 입력받는 부분입니다.\n",
        "fahrenheit = int(input(\"화씨를 입력하세요: \"))\n",
        "\n",
        "# 섭씨 온도를 계산하는 부분입니다.\n",
        "celsius = (fahrenheit - 32) / 1.8\n",
        "\n",
        "# 결과를 출력하는 부분입니다.\n",
        "print(celsius)"
      ],
      "metadata": {
        "colab": {
          "base_uri": "https://localhost:8080/"
        },
        "id": "GEUPtt3cF4go",
        "outputId": "0f60e867-c98b-43a4-9296-6422fd325e1c"
      },
      "execution_count": 2,
      "outputs": [
        {
          "output_type": "stream",
          "name": "stdout",
          "text": [
            "화씨를 입력하세요: 100\n",
            "37.77777777777778\n"
          ]
        }
      ]
    },
    {
      "cell_type": "code",
      "source": [
        "ceisious =float(input(\"섭씨를 일력하시오.: \"))\n",
        "fahrenheit = ceisious * 1.8 + 32\n",
        "print(fahrenheit)"
      ],
      "metadata": {
        "colab": {
          "base_uri": "https://localhost:8080/"
        },
        "id": "CeBY1toRGDG4",
        "outputId": "7a9477ac-30ca-4366-8406-171016a989c5"
      },
      "execution_count": 4,
      "outputs": [
        {
          "output_type": "stream",
          "name": "stdout",
          "text": [
            "섭씨를 일력하시오.: 37.7777777777778\n",
            "100.00000000000004\n"
          ]
        }
      ]
    }
  ]
}