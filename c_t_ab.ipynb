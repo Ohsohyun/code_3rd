{
  "nbformat": 4,
  "nbformat_minor": 0,
  "metadata": {
    "colab": {
      "provenance": [],
      "authorship_tag": "ABX9TyNvSw1Gg+/MVb/i8I2UVc/d",
      "include_colab_link": true
    },
    "kernelspec": {
      "name": "python3",
      "display_name": "Python 3"
    },
    "language_info": {
      "name": "python"
    }
  },
  "cells": [
    {
      "cell_type": "markdown",
      "metadata": {
        "id": "view-in-github",
        "colab_type": "text"
      },
      "source": [
        "<a href=\"https://colab.research.google.com/github/Ohsohyun/code_3rd/blob/main/c_t_ab.ipynb\" target=\"_parent\"><img src=\"https://colab.research.google.com/assets/colab-badge.svg\" alt=\"Open In Colab\"/></a>"
      ]
    },
    {
      "cell_type": "markdown",
      "source": [
        "일한 시간과 시급을 예상하여 출력하는 코드"
      ],
      "metadata": {
        "id": "qLdhJMNxnvp5"
      }
    },
    {
      "cell_type": "code",
      "source": [
        "hours_worked = int(input(\"일한 시간을 일력하시오.: \"))\n",
        "pay_late = int(input(\"시급을 이력하시오.(23년 시급 9620):\"))\n",
        "day_worked = int(input(\"일한 날짜를 압력하시오.:\"))\n",
        "day_moth = hours_worked * day_worked\n",
        "monthly_pay = hours_worked * pay_late * day_worked\n",
        "print(f'일한시간은 {hours_worked}시간 이며, 시급은 {pay_late}원 이고, 월급여는 {monthiy_pay}입니다.' )\n"
      ],
      "metadata": {
        "id": "OCNIbyGapOyM"
      },
      "execution_count": null,
      "outputs": []
    },
    {
      "cell_type": "markdown",
      "source": [
        "2. 환전하는 코드를 작성\n",
        "\n",
        " - 변수는 won,usd, exchange\n",
        " - 계산 won * usd"
      ],
      "metadata": {
        "id": "frdj4h8_umz1"
      }
    },
    {
      "cell_type": "code",
      "source": [
        "from io import UnsupportedOperation\n",
        "usd = int(input(\"환전할 달러을 입력: \"))\n",
        "won = int(input(\"달러의 환율금액 입력(231031: 1372원)\"))\n",
        "exchange = won * usd\n",
        "print(f' 환전하고 싶은 {usd}달러는 환율 {won}으로 계산하면,  {exchange}원 입니다.')"
      ],
      "metadata": {
        "colab": {
          "base_uri": "https://localhost:8080/"
        },
        "id": "j6jr-aLEvEcs",
        "outputId": "cb7dc1e6-8117-4c74-e887-8dceb90df0e1"
      },
      "execution_count": null,
      "outputs": [
        {
          "output_type": "stream",
          "name": "stdout",
          "text": [
            "환전할 달러을 입력: 500\n",
            "달러의 환율금액 입력(231031: 1372원)1372\n",
            " 환전하고 싶은 500달러는 환율 1372으로 계산하면,  686000원 입니다.\n"
          ]
        }
      ]
    },
    {
      "cell_type": "markdown",
      "source": [
        "화씨를 섭씨로 썹씨를 하씨로 변환하는 코드\n",
        " - 화씨를 섭씨로\"F = ℃ * 1.8 + 32\n",
        " - 썹씨를 하씨로 ℃ = (\"F - 32) / 1.8\n",
        " - 변수 : 화씨 fahrenheit, 섭씨 ceisious"
      ],
      "metadata": {
        "id": "RRp4ptegyJns"
      }
    },
    {
      "cell_type": "code",
      "source": [
        "fahrenheit = int(input(\"화씨를 입력히시오.: \"))\n",
        "ceisious = (fahrenheit - 32)/ 1.8\n",
        "print(ceisious)"
      ],
      "metadata": {
        "id": "hKEWsCiu0Dss"
      },
      "execution_count": null,
      "outputs": []
    },
    {
      "cell_type": "code",
      "source": [
        "ceisious =float(input(\"섭씨를 일력하시오.: \"))\n",
        "fahrenheit = ceisious * 1.8 + 32\n",
        "print(fahrenheit)"
      ],
      "metadata": {
        "id": "A2OlqkAz0xYd",
        "outputId": "c6f094c1-f5bc-49eb-9cb3-de82dca9361c",
        "colab": {
          "base_uri": "https://localhost:8080/"
        }
      },
      "execution_count": 11,
      "outputs": [
        {
          "output_type": "stream",
          "name": "stdout",
          "text": [
            "섭씨를 일력하시오.: 37.7777777777778\n",
            "100.00000000000004\n"
          ]
        }
      ]
    }
  ]
}