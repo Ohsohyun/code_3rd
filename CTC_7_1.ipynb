{
  "nbformat": 4,
  "nbformat_minor": 0,
  "metadata": {
    "colab": {
      "provenance": [],
      "authorship_tag": "ABX9TyNIT/rJfRy70hbd2BzWipjf",
      "include_colab_link": true
    },
    "kernelspec": {
      "name": "python3",
      "display_name": "Python 3"
    },
    "language_info": {
      "name": "python"
    }
  },
  "cells": [
    {
      "cell_type": "markdown",
      "metadata": {
        "id": "view-in-github",
        "colab_type": "text"
      },
      "source": [
        "<a href=\"https://colab.research.google.com/github/Ohsohyun/code_3rd/blob/main/CTC_7_1.ipynb\" target=\"_parent\"><img src=\"https://colab.research.google.com/assets/colab-badge.svg\" alt=\"Open In Colab\"/></a>"
      ]
    },
    {
      "cell_type": "markdown",
      "source": [
        "1.사용자로부터 3개의 값(x,y,z)을 입력받아서 각각 1씩 증가되고, 출력되는 코드작성"
      ],
      "metadata": {
        "id": "r7lw9moO85G6"
      }
    },
    {
      "cell_type": "code",
      "source": [
        "# x의 값을 입력받는 부분입니다.\n",
        "x = int(input(\"x의 값을 입력하시오: \"))\n",
        "\n",
        "# y의 값을 입력받는 부분입니다.\n",
        "y = int(input(\"y의 값을 입력하시오: \"))\n",
        "\n",
        "# z의 값을 입력받는 부분입니다.\n",
        "z = int(input(\"z의 값을 입력하시오: \"))\n",
        "\n",
        "# x, y, z 값을 각각 1씩 증가시킵니다.\n",
        "x = x + 1\n",
        "y = y + 1\n",
        "z = z + 1\n",
        "\n",
        "# x, y, z 값을 출력합니다.\n",
        "print(f'x의 값은 {x}이며, y의 값은 {y}이고, z의 값은 {z}이다.')"
      ],
      "metadata": {
        "colab": {
          "base_uri": "https://localhost:8080/"
        },
        "id": "WOq5FnMp9ROY",
        "outputId": "c9139cf9-6c1c-4bbf-d59a-925b212e6bcf"
      },
      "execution_count": 1,
      "outputs": [
        {
          "output_type": "stream",
          "name": "stdout",
          "text": [
            "x의 값을 입력하시오: 2\n",
            "y의 값을 입력하시오: 3\n",
            "z의 값을 입력하시오: 4\n",
            "x의 값은 3이며, y의 값은 4이고, z의 값은 5이다.\n"
          ]
        }
      ]
    },
    {
      "cell_type": "markdown",
      "source": [
        "2. 알바생의 시급과 시간을 계산하여 월급을 출력하는 코드"
      ],
      "metadata": {
        "id": "0GuMHQzd_FNc"
      }
    },
    {
      "cell_type": "code",
      "source": [
        "# 일한 시간을 입력받는 부분입니다.\n",
        "hours_worked = int(input(\"일한 시간을 입력하시오: \"))\n",
        "\n",
        "# 시급을 입력받는 부분입니다.\n",
        "pay_rate = int(input(\"시급을 입력하시오(23년 기준 9620원): \"))\n",
        "\n",
        "# 월급여를 계산합니다.\n",
        "monthly_pay = hours_worked * pay_rate\n",
        "\n",
        "# 일한 시간, 시급, 월급여를 출력합니다.\n",
        "print(f'일한 시간은 {hours_worked}이고, 시급은 {pay_rate}원이며, 월급여는 {monthly_pay}원 입니다.')"
      ],
      "metadata": {
        "colab": {
          "base_uri": "https://localhost:8080/"
        },
        "id": "hDsEmSVD_JUP",
        "outputId": "55abfde3-a832-4b63-f2bd-b7224b08a16b"
      },
      "execution_count": 2,
      "outputs": [
        {
          "output_type": "stream",
          "name": "stdout",
          "text": [
            "일한 시간을 입력하시오: 7\n",
            "시급을 입력하시오(23년 기준 9620원): 9620\n",
            "일한 시간은 7이고, 시급은 9620원이며, 월급여는 67340원 입니다.\n"
          ]
        }
      ]
    },
    {
      "cell_type": "markdown",
      "source": [
        "3. 환율계산하는 코드작성\n",
        " - 원의 변수는 won\n",
        " - 달러의 변수는 usd\n",
        " - 환전의 변수는 exchange"
      ],
      "metadata": {
        "id": "GCPW9yLR_ZQ9"
      }
    },
    {
      "cell_type": "code",
      "source": [
        "# 환전할 금액을 입력받는 부분입니다.\n",
        "won = int(input(\"환전할 금액을 입력(kor): \"))\n",
        "\n",
        "# 현재 달러의 환율을 입력받는 부분입니다.\n",
        "usd = int(input(\"현재 달러의 환율을 입력(231031: 1372): \"))\n",
        "\n",
        "# 환전 금액을 계산합니다.\n",
        "exchange = won // usd\n",
        "\n",
        "# 환전할 금액, 달러의 금액, 환전금액을 출력합니다.\n",
        "print(f'환전할 금액은 {won}이며, 달러의 금액은 {usd}이고, 환전금액은 {exchange}입니다.')"
      ],
      "metadata": {
        "colab": {
          "base_uri": "https://localhost:8080/"
        },
        "id": "9P65pcwU_vsH",
        "outputId": "111da9af-3b99-4f86-89d1-2aae55addd10"
      },
      "execution_count": 4,
      "outputs": [
        {
          "output_type": "stream",
          "name": "stdout",
          "text": [
            "환전할 금액을 입력(kor): 5000\n",
            "현재 달러의 환율을 입력(231031: 1372): 1372\n",
            "환전할 금액은 5000이며, 달러의 금액은 1372이고, 환전금액은 3입니다.\n"
          ]
        }
      ]
    },
    {
      "cell_type": "markdown",
      "source": [
        "4. 화씨(fahrenheit)를 섭씨(celcius)로 변환하는 코드작성"
      ],
      "metadata": {
        "id": "faH_Nao0ACkJ"
      }
    },
    {
      "cell_type": "code",
      "source": [
        "# 화씨 온도를 입력받는 부분입니다.\n",
        "fahrenheit = int(input(\"화씨 온도를 입력하시오: \"))\n",
        "\n",
        "# 섭씨 온도를 계산하는 부분입니다.\n",
        "celcius = (fahrenheit - 32) / 1.8\n",
        "\n",
        "# 화씨 온도와 섭씨 온도를 출력합니다.\n",
        "print(f'화씨 온도는 {fahrenheit}, 섭씨 온도는 {celcius}입니다.')"
      ],
      "metadata": {
        "colab": {
          "base_uri": "https://localhost:8080/"
        },
        "id": "V1Er9x42AIoE",
        "outputId": "880837ae-8548-4192-d9ec-21283c0921b0"
      },
      "execution_count": 5,
      "outputs": [
        {
          "output_type": "stream",
          "name": "stdout",
          "text": [
            "화씨 온도를 입력하시오: 100\n",
            "화씨 온도는 100, 섭씨 온도는 37.77777777777778입니다.\n"
          ]
        }
      ]
    },
    {
      "cell_type": "code",
      "source": [
        "celcius = float(input(\"섭씨온도를 입력하시오.:\"))\n",
        "fahrenheit = (celcius * 1.8) + 32\n",
        "print(f'섭씨온도는 {celcius}도는, 화씨 {fahrenheit}도 입니다.')"
      ],
      "metadata": {
        "colab": {
          "base_uri": "https://localhost:8080/"
        },
        "id": "Bp63e8UxAhHG",
        "outputId": "ef7090d3-4291-4ec2-b768-637e19254359"
      },
      "execution_count": 6,
      "outputs": [
        {
          "output_type": "stream",
          "name": "stdout",
          "text": [
            "섭씨온도를 입력하시오.:100\n",
            "섭씨온도는 100.0도는, 화씨 212.0도 입니다.\n"
          ]
        }
      ]
    },
    {
      "cell_type": "markdown",
      "source": [
        "5. 사용자로부터 2개의 정수를 받아서 합계를 출력"
      ],
      "metadata": {
        "id": "4jUpLuPIAZuD"
      }
    },
    {
      "cell_type": "code",
      "source": [
        "# x의 값을 입력받는 부분입니다.\n",
        "x = int(input(\"x의 값을 입력하시오: \"))\n",
        "\n",
        "# y의 값을 입력받는 부분입니다.\n",
        "y = int(input(\"y의 값을 입력하시오: \"))\n",
        "\n",
        "# 두 수의 합을 계산합니다.\n",
        "sum = x + y\n",
        "\n",
        "# 합을 출력합니다.\n",
        "print(sum)"
      ],
      "metadata": {
        "colab": {
          "base_uri": "https://localhost:8080/"
        },
        "id": "FIEk94irAryk",
        "outputId": "2610ecda-928f-44c1-ced4-49faaaed8ad4"
      },
      "execution_count": 7,
      "outputs": [
        {
          "output_type": "stream",
          "name": "stdout",
          "text": [
            "x의 값을 입력하시오: 1\n",
            "y의 값을 입력하시오: 2\n",
            "3\n"
          ]
        }
      ]
    },
    {
      "cell_type": "markdown",
      "source": [
        "6. 부가세를 계산하시오."
      ],
      "metadata": {
        "id": "fv4ZFRbcBBrq"
      }
    },
    {
      "cell_type": "code",
      "source": [
        "# 상품의 가격을 입력받는 부분입니다.\n",
        "price = int(input(\"상품의 가격을 입력하시오: \"))\n",
        "\n",
        "# 부가가치세를 계산하는 부분입니다.\n",
        "vat = price * 0.1\n",
        "\n",
        "# 부가가치세를 출력합니다.\n",
        "print(vat)"
      ],
      "metadata": {
        "colab": {
          "base_uri": "https://localhost:8080/"
        },
        "id": "KfMyJ4ctBGUT",
        "outputId": "2e351628-6997-4977-a78e-50d9a490749b"
      },
      "execution_count": 8,
      "outputs": [
        {
          "output_type": "stream",
          "name": "stdout",
          "text": [
            "상품의 가격을 입력하시오: 2000\n",
            "200.0\n"
          ]
        }
      ]
    }
  ]
}