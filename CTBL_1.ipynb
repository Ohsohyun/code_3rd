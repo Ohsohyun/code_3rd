{
  "nbformat": 4,
  "nbformat_minor": 0,
  "metadata": {
    "colab": {
      "provenance": [],
      "authorship_tag": "ABX9TyN9XKzg1rhRXw3PR8Nxujxy",
      "include_colab_link": true
    },
    "kernelspec": {
      "name": "python3",
      "display_name": "Python 3"
    },
    "language_info": {
      "name": "python"
    }
  },
  "cells": [
    {
      "cell_type": "markdown",
      "metadata": {
        "id": "view-in-github",
        "colab_type": "text"
      },
      "source": [
        "<a href=\"https://colab.research.google.com/github/Ohsohyun/code_3rd/blob/main/CTBL_1.ipynb\" target=\"_parent\"><img src=\"https://colab.research.google.com/assets/colab-badge.svg\" alt=\"Open In Colab\"/></a>"
      ]
    },
    {
      "cell_type": "markdown",
      "source": [
        "1. 학생으로부터 성적을 입력받아 합격유무를 출력하는 코드작성\n",
        " - 사용번수: Grade\n",
        " - 사용수식: Grade > = 70:"
      ],
      "metadata": {
        "id": "qJbVY0ay0rf9"
      }
    },
    {
      "cell_type": "code",
      "source": [
        "Grade = int(input(\"성적입력: \"))\n",
        "if Grade >= 70:\n",
        "  print(\"70점 이상이므로 합격\")\n",
        "else:\n",
        " print(\"70점 이하는 불합격\")"
      ],
      "metadata": {
        "colab": {
          "base_uri": "https://localhost:8080/"
        },
        "id": "96-2f0aD1R-1",
        "outputId": "a544b834-d155-4d06-d383-6172488d5cbe"
      },
      "execution_count": 2,
      "outputs": [
        {
          "output_type": "stream",
          "name": "stdout",
          "text": [
            "성적입력: 80\n",
            "70점 이상이므로 합격\n"
          ]
        }
      ]
    },
    {
      "cell_type": "markdown",
      "source": [
        "2. 쇼핑몰의 배송료를 계산하는 코드작성\n",
        " - 변수명 : price, shipping_cost\n",
        " - 수식 : price >= 20000\n",
        " - shipping_cost: 3000"
      ],
      "metadata": {
        "id": "P8IXWgaa3rfF"
      }
    },
    {
      "cell_type": "code",
      "source": [
        "price = int(input(\"구입금액 입력: \"))\n",
        "if price >= 20000:\n",
        " shipping_cost = 0\n",
        " print(f'구입금액이 {price}원 이상입니다.')\n",
        "else:\n",
        "  shipping_cost = 3000\n",
        "  print(\"구입금액이 2만원 이하입니다\")\n",
        "print(f'회원님의 배송료는 {shipping_cost}입니다.')"
      ],
      "metadata": {
        "colab": {
          "base_uri": "https://localhost:8080/"
        },
        "id": "LE6yC6FY40mm",
        "outputId": "c4dd9f87-fc02-4ad0-e7e9-accbbe110fab"
      },
      "execution_count": 7,
      "outputs": [
        {
          "output_type": "stream",
          "name": "stdout",
          "text": [
            "구입금액 입력: 20000\n",
            "구입금액이 20000원 이상입니다.\n",
            "회원님의 배송료는 0입니다.\n"
          ]
        }
      ]
    },
    {
      "cell_type": "markdown",
      "source": [
        "3. 근무시간에 따라 초과근무와 정상근문를 판별하는 코드작성\n",
        " - 번수: work_hour\n",
        " - 수식: >= , 기준시간:72시간"
      ],
      "metadata": {
        "id": "2f5ZhLj378h2"
      }
    },
    {
      "cell_type": "code",
      "source": [
        "work_hour = int(input(\"근무시간 입력: \"))\n",
        "if work_hour >= 72:\n",
        " print(\"초과근무 하였습니다.\")\n",
        "else:\n",
        "  print(\"정상근무 하였습니다.\")"
      ],
      "metadata": {
        "colab": {
          "base_uri": "https://localhost:8080/"
        },
        "id": "Bs7Jnam98ad-",
        "outputId": "a35a26b1-d736-4013-e6f1-7df0c19f5787"
      },
      "execution_count": 9,
      "outputs": [
        {
          "output_type": "stream",
          "name": "stdout",
          "text": [
            "근무시간 입력: 73\n",
            "초과근무 하였습니다.\n"
          ]
        }
      ]
    },
    {
      "cell_type": "markdown",
      "source": [
        "4. 정수를 입력받아서 짝수인지 홀수인지 판별하는 코드작성\n",
        " - 변수: num\n",
        " - 수식: (num % 2) != 0:"
      ],
      "metadata": {
        "id": "YIl02R8M99s2"
      }
    },
    {
      "cell_type": "code",
      "source": [
        "num = int(input(\"정수를 입력하시오: \"))\n",
        "if (num % 2) != 0:\n",
        "  print(\"홀수입니다.\")\n",
        "else:\n",
        "  print(\"짝수입니다.\")"
      ],
      "metadata": {
        "colab": {
          "base_uri": "https://localhost:8080/"
        },
        "id": "2LJLRuVO-XJe",
        "outputId": "9778532c-0e92-4795-a00f-a4852b8ff894"
      },
      "execution_count": 10,
      "outputs": [
        {
          "output_type": "stream",
          "name": "stdout",
          "text": [
            "정수를 입력하시오: 4\n",
            "짝수입니다.\n"
          ]
        }
      ]
    },
    {
      "cell_type": "markdown",
      "source": [
        "5. 사용자의 이름과 나이를 입력받고, 답변하는 코드작성\n",
        " - 입력: 성명 - name\n",
        " - 입력: 나이 - age\n",
        " - 수식: if age <= 20:\n",
        "\n",
        "  최종 출력물\n",
        "  - 이름을 입력하시오.: ***\n",
        "  - 나이를 입력하시오.: **\n",
        "  - (1) 프로그래밍을 배우는 최적의 나이입니다.\n",
        "  - (2) 아직도 늦지 않았습니다. 도전정신"
      ],
      "metadata": {
        "id": "M75mTdDAAlPl"
      }
    },
    {
      "cell_type": "code",
      "source": [
        "name = input(\"이름을 입력하시오: \")\n",
        "age = int(input(\"나이를 입력하시오: \"))\n",
        "if age<= 20:\n",
        " print(\"프로그래밍을 배우는 최적의 나이입니다\")\n",
        "else:\n",
        " print(\"아직도 늦지 않았습니다. 도전정신\")"
      ],
      "metadata": {
        "colab": {
          "base_uri": "https://localhost:8080/"
        },
        "id": "Fth-C1QzA_Uf",
        "outputId": "309600e5-0303-4ae5-d91c-09528593517b"
      },
      "execution_count": 1,
      "outputs": [
        {
          "output_type": "stream",
          "name": "stdout",
          "text": [
            "이름을 입력하시오: 오소현\n",
            "나이를 입력하시오: 20\n",
            "프로그래밍을 배우는 최적의 나이입니다\n"
          ]
        }
      ]
    },
    {
      "cell_type": "code",
      "source": [
        "import random  # 파이썬의 랜덤 모듈을 가져옵니다\n",
        "\n",
        "def generate_lotto_numbers():  # 로또 번호를 생성하는 함수를 정의합니다\n",
        "    return random.sample(range(1, 46), 6)  # 1부터 45까지의 숫자 중에서 무작위로 6개의 숫자를 선택합니다\n",
        "\n",
        "lotto_numbers = generate_lotto_numbers()  # 로또 번호를 생성하고 이를 lotto_numbers 변수에 저장합니다\n",
        "print(\"생성된 로또 번호는\", lotto_numbers, \"입니다\")  # 생성된 로또 번호를 출력합니다"
      ],
      "metadata": {
        "colab": {
          "base_uri": "https://localhost:8080/"
        },
        "id": "GwiW0kVwFI83",
        "outputId": "3733d3d8-e109-4865-d3e3-4f6f0ec4b72b"
      },
      "execution_count": 2,
      "outputs": [
        {
          "output_type": "stream",
          "name": "stdout",
          "text": [
            "생성된 로또 번호는 [41, 42, 6, 10, 33, 29] 입니다\n"
          ]
        }
      ]
    },
    {
      "cell_type": "code",
      "source": [
        "# 사용자로부터 이름을 입력받습니다.\n",
        "name = input(\"당신의 이름을 입력해주세요: \")\n",
        "\n",
        "# 사용자로부터 나이를 입력받습니다.\n",
        "age = input(\"당신의 나이를 입력해주세요: \")\n",
        "\n",
        "# 입력받은 이름과 나이를 출력합니다.\n",
        "print(\"당신의 이름은\", name, \"이고, 나이는\", age, \"입니다.\")"
      ],
      "metadata": {
        "colab": {
          "base_uri": "https://localhost:8080/"
        },
        "id": "_ggX6c7QGPz2",
        "outputId": "83eeab17-dffb-439b-87d5-1713edfeee48"
      },
      "execution_count": 3,
      "outputs": [
        {
          "output_type": "stream",
          "name": "stdout",
          "text": [
            "당신의 이름을 입력해주세요: 오소현\n",
            "당신의 나이를 입력해주세요: 20\n",
            "당신의 이름은 오소현 이고, 나이는 20 입니다.\n"
          ]
        }
      ]
    }
  ]
}