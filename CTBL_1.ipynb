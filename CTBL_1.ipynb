{
  "nbformat": 4,
  "nbformat_minor": 0,
  "metadata": {
    "colab": {
      "provenance": [],
      "authorship_tag": "ABX9TyOKPa8T5gH99qiguUK7Nupo",
      "include_colab_link": true
    },
    "kernelspec": {
      "name": "python3",
      "display_name": "Python 3"
    },
    "language_info": {
      "name": "python"
    }
  },
  "cells": [
    {
      "cell_type": "markdown",
      "metadata": {
        "id": "view-in-github",
        "colab_type": "text"
      },
      "source": [
        "<a href=\"https://colab.research.google.com/github/Ohsohyun/code_3rd/blob/main/CTBL_1.ipynb\" target=\"_parent\"><img src=\"https://colab.research.google.com/assets/colab-badge.svg\" alt=\"Open In Colab\"/></a>"
      ]
    },
    {
      "cell_type": "markdown",
      "source": [
        "1. 학생으로부터 성적을 입력받아 합격유무를 출력하는 코드작성\n",
        " - 사용번수: Grade\n",
        " - 사용수식: Grade > = 70:"
      ],
      "metadata": {
        "id": "go1yOLkK3WGC"
      }
    },
    {
      "cell_type": "code",
      "execution_count": 1,
      "metadata": {
        "colab": {
          "base_uri": "https://localhost:8080/"
        },
        "id": "FvJonCOZyLUn",
        "outputId": "415807f3-6804-4343-e865-eb0d9d2499c1"
      },
      "outputs": [
        {
          "output_type": "stream",
          "name": "stdout",
          "text": [
            "성적입력: 70\n",
            "70점 이상이므로 합격\n"
          ]
        }
      ],
      "source": [
        "# 성적을 입력받는 부분입니다.\n",
        "Grade = int(input(\"성적입력: \"))\n",
        "\n",
        "# 입력받은 성적이 70점 이상인 경우\n",
        "if Grade >= 70:\n",
        "    print(\"70점 이상이므로 합격\")\n",
        "# 입력받은 성적이 70점 미만인 경우\n",
        "else:\n",
        "    print(\"70점 이하는 불합격\")"
      ]
    },
    {
      "cell_type": "markdown",
      "source": [
        "1. 쇼핑몰의 배송료를 계산하는 코드작성\n",
        " - 변수명 : price, shipping_cost\n",
        " - 수식 : price >= 20000\n",
        " - shipping_cost: 3000"
      ],
      "metadata": {
        "id": "VfI78PMO3xn7"
      }
    },
    {
      "cell_type": "code",
      "source": [
        "# 구입 금액을 입력받는 부분입니다.\n",
        "price = int(input(\"구입금액 입력: \"))\n",
        "\n",
        "# 입력받은 구입 금액이 2만 원 이상인 경우\n",
        "if price >= 20000:\n",
        "    shipping_cost = 0\n",
        "    print(f'구입금액이 {price}원 이상입니다.')\n",
        "# 입력받은 구입 금액이 2만 원 이하인 경우\n",
        "else:\n",
        "    shipping_cost = 3000\n",
        "    print(\"구입금액이 2만원 이하입니다.\")\n",
        "\n",
        "# 회원님의 배송료를 출력하는 부분입니다.\n",
        "print(f'회원님의 배송료는 {shipping_cost}입니다.')"
      ],
      "metadata": {
        "colab": {
          "base_uri": "https://localhost:8080/"
        },
        "id": "hyS_ACPv36qa",
        "outputId": "7a81d656-1fe1-4599-cf63-466309f26af3"
      },
      "execution_count": 2,
      "outputs": [
        {
          "output_type": "stream",
          "name": "stdout",
          "text": [
            "구입금액 입력: 20000\n",
            "구입금액이 20000원 이상입니다.\n",
            "회원님의 배송료는 0입니다.\n"
          ]
        }
      ]
    },
    {
      "cell_type": "markdown",
      "source": [
        "3. 근무시간에 따라 초과근무와 정상근문를 판별하는 코드작성\n",
        " - 번수: work_hour\n",
        " - 수식: >= , 기준시간:72시간"
      ],
      "metadata": {
        "id": "XkrEo75j5NCz"
      }
    },
    {
      "cell_type": "code",
      "source": [
        "# 근무 시간을 입력받는 부분입니다.\n",
        "work_hour = int(input(\"근무시간 입력: \"))\n",
        "\n",
        "# 입력받은 근무 시간이 72시간 이상인 경우\n",
        "if work_hour >= 72:\n",
        "    print(\"초과근무 하였습니다.\")\n",
        "# 입력받은 근무 시간이 72시간 미만인 경우\n",
        "else:\n",
        "    print(\"정상근무 하였습니다.\")"
      ],
      "metadata": {
        "colab": {
          "base_uri": "https://localhost:8080/"
        },
        "id": "L-xespXh5SMJ",
        "outputId": "a11a74b0-9319-44cb-a691-f867b96aba8f"
      },
      "execution_count": 3,
      "outputs": [
        {
          "output_type": "stream",
          "name": "stdout",
          "text": [
            "근무시간 입력: 72\n",
            "초과근무 하였습니다.\n"
          ]
        }
      ]
    },
    {
      "cell_type": "markdown",
      "source": [
        "4. 정수를 입력받아서 짝수인지 홀수인지 판별하는 코드작성\n",
        " - 변수: num\n",
        " - 수식: (num % 2) != 0:"
      ],
      "metadata": {
        "id": "ZiKNwrzk5vxm"
      }
    },
    {
      "cell_type": "code",
      "source": [
        "# 정수를 입력받는 부분입니다.\n",
        "num = int(input(\"정수를 입력하시오: \"))\n",
        "\n",
        "# 입력받은 숫자가 홀수인 경우\n",
        "if (num % 2) != 0:\n",
        "    print(\"홀수입니다.\")\n",
        "# 입력받은 숫자가 짝수인 경우\n",
        "else:\n",
        "    print(\"짝수입니다.\")"
      ],
      "metadata": {
        "colab": {
          "base_uri": "https://localhost:8080/"
        },
        "id": "HVZ2zkzh52Gv",
        "outputId": "7824b706-c610-4a0b-ec23-e0f8debad82a"
      },
      "execution_count": 4,
      "outputs": [
        {
          "output_type": "stream",
          "name": "stdout",
          "text": [
            "정수를 입력하시오: 5\n",
            "홀수입니다.\n"
          ]
        }
      ]
    },
    {
      "cell_type": "markdown",
      "source": [
        "5. 사용자의 이름과 나이를 입력받고, 답변하는 코드작성\n",
        " - 입력: 성명 - name\n",
        " - 입력: 나이 - age\n",
        " - 수식: if age <= 20:\n",
        "최종 출력물\n",
        "\n",
        " - 이름을 입력하시오.: ***\n",
        " - 나이를 입력하시오.: **\n",
        " - (1) 프로그래밍을 배우는 최적의 나이입니다.\n",
        " - (2) 아직도 늦지 않았습니다. 도전정신"
      ],
      "metadata": {
        "id": "oSZNY5PI6ETF"
      }
    },
    {
      "cell_type": "code",
      "source": [
        "# 이름을 입력받는 부분입니다.\n",
        "name = input(\"이름을 입력하시오: \")\n",
        "\n",
        "# 나이를 입력받는 부분입니다.\n",
        "age = int(input(\"나이를 입력하시오: \"))\n",
        "\n",
        "# 입력받은 나이가 20세 이하인 경우\n",
        "if age <= 20:\n",
        "    print(\"프로그래밍을 배우는 최적의 나이입니다.\")\n",
        "# 입력받은 나이가 20세 초과인 경우\n",
        "else:\n",
        "    print(\"아직도 늦지 않았습니다. 도전정신을 가져보세요.\")"
      ],
      "metadata": {
        "colab": {
          "base_uri": "https://localhost:8080/"
        },
        "id": "kmK0vgFC6Vj6",
        "outputId": "b6a53b8d-e75b-4445-8c2f-961790c02455"
      },
      "execution_count": 6,
      "outputs": [
        {
          "output_type": "stream",
          "name": "stdout",
          "text": [
            "이름을 입력하시오: 오소현\n",
            "나이를 입력하시오: 23\n",
            "아직도 늦지 않았습니다. 도전정신을 가져보세요.\n"
          ]
        }
      ]
    },
    {
      "cell_type": "code",
      "source": [
        "import random  # 파이썬의 랜덤 모듈을 가져옵니다\n",
        "\n",
        "def generate_lotto_numbers():  # 로또 번호를 생성하는 함수를 정의합니다\n",
        "    return random.sample(range(1, 46), 6)  # 1부터 45까지의 숫자 중에서 무작위로 6개의 숫자를 선택합니다\n",
        "\n",
        "lotto_numbers = generate_lotto_numbers()  # 로또 번호를 생성하고 이를 lotto_numbers 변수에 저장합니다\n",
        "print(\"생성된 로또 번호는\", lotto_numbers, \"입니다\")  # 생성된 로또 번호를 출력합니다"
      ],
      "metadata": {
        "colab": {
          "base_uri": "https://localhost:8080/"
        },
        "id": "dpGoVbsF627J",
        "outputId": "1f8aef26-bb1c-46d8-8fa4-9939dc50c3f3"
      },
      "execution_count": 7,
      "outputs": [
        {
          "output_type": "stream",
          "name": "stdout",
          "text": [
            "생성된 로또 번호는 [39, 19, 21, 31, 43, 23] 입니다\n"
          ]
        }
      ]
    },
    {
      "cell_type": "code",
      "source": [
        "# 사용자로부터 이름을 입력받습니다.\n",
        "name = input(\"당신의 이름을 입력해주세요: \")\n",
        "\n",
        "# 사용자로부터 나이를 입력받습니다.\n",
        "age = input(\"당신의 나이를 입력해주세요: \")\n",
        "\n",
        "# 입력받은 이름과 나이를 출력합니다.\n",
        "print(\"당신의 이름은\", name, \"이고, 나이는\", age, \"입니다.\")"
      ],
      "metadata": {
        "colab": {
          "base_uri": "https://localhost:8080/"
        },
        "id": "i37XKTJB6--l",
        "outputId": "f68a5638-ffbc-4d0e-f20e-f714b6339265"
      },
      "execution_count": 8,
      "outputs": [
        {
          "output_type": "stream",
          "name": "stdout",
          "text": [
            "당신의 이름을 입력해주세요: 오소현\n",
            "당신의 나이를 입력해주세요: 20\n",
            "당신의 이름은 오소현 이고, 나이는 20 입니다.\n"
          ]
        }
      ]
    }
  ]
}