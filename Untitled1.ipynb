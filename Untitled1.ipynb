{
  "nbformat": 4,
  "nbformat_minor": 0,
  "metadata": {
    "colab": {
      "provenance": [],
      "authorship_tag": "ABX9TyM1TQBmQacRERJAb0rLRMNf",
      "include_colab_link": true
    },
    "kernelspec": {
      "name": "python3",
      "display_name": "Python 3"
    },
    "language_info": {
      "name": "python"
    }
  },
  "cells": [
    {
      "cell_type": "markdown",
      "metadata": {
        "id": "view-in-github",
        "colab_type": "text"
      },
      "source": [
        "<a href=\"https://colab.research.google.com/github/Ohsohyun/code_3rd/blob/main/Untitled1.ipynb\" target=\"_parent\"><img src=\"https://colab.research.google.com/assets/colab-badge.svg\" alt=\"Open In Colab\"/></a>"
      ]
    },
    {
      "cell_type": "code",
      "execution_count": 1,
      "metadata": {
        "colab": {
          "base_uri": "https://localhost:8080/"
        },
        "id": "tSZGXWWZHAme",
        "outputId": "245aee4b-f533-42c2-920d-a86249599307"
      },
      "outputs": [
        {
          "output_type": "stream",
          "name": "stdout",
          "text": [
            "    October 2023\n",
            "Mo Tu We Th Fr Sa Su\n",
            "                   1\n",
            " 2  3  4  5  6  7  8\n",
            " 9 10 11 12 13 14 15\n",
            "16 17 18 19 20 21 22\n",
            "23 24 25 26 27 28 29\n",
            "30 31\n",
            "\n"
          ]
        }
      ],
      "source": [
        "import calendar\n",
        "\n",
        "# 출력할 연도와 월을 지정합니다.\n",
        "yy = 2023\n",
        "mm = 10\n",
        "\n",
        "# calendar.month 함수를 사용하여 지정한 연도와 월의 달력을 출력합니다.\n",
        "print(calendar.month(yy, mm))"
      ]
    },
    {
      "cell_type": "markdown",
      "source": [
        "2023년 10월 19일 To Do List\n",
        "\n",
        " - 09:10 ~ 11:00 컴퓨팅적사고와 기초코딩\n",
        " - 11:10 ~ 12:00 전공 발표수업\n",
        " - 12:00 ~ 1:00 점심식사\n",
        " - 1:00 ~ 6:00 시험공부\n",
        " - 6:00 ~ 6:30 저녁식사\n",
        " - 6:30 ~ 10:00 공부\n",
        " - 10:00 ~ 7:00 취침"
      ],
      "metadata": {
        "id": "xcFkdICeHQ8R"
      }
    },
    {
      "cell_type": "code",
      "source": [
        "print(\"2023년 10월 19일 To Do List\")\n",
        "\n",
        "print(\"09:10 ~ 11:00 컴퓨팅적사고와 기초코딩\")\n",
        "print(\"11:10 ~ 12:00 전공 발표수업\")\n",
        "print(\"12:00 ~ 1:00 점심식사\")\n",
        "print(\"2:00 ~ 6:00 시험공부\")\n",
        "print(\"6:00 ~ 6:30 저녁식사\")\n",
        "print(\"6:30 ~ 10:00 공부\")\n",
        "print(\"10:00 ~ 7:00 취침\")"
      ],
      "metadata": {
        "colab": {
          "base_uri": "https://localhost:8080/"
        },
        "id": "L9nPwJgWHXrA",
        "outputId": "2cb88c85-9c6b-41c3-a496-a37924a75de8"
      },
      "execution_count": 2,
      "outputs": [
        {
          "output_type": "stream",
          "name": "stdout",
          "text": [
            "2023년 10월 19일 To Do List\n",
            "09:10 ~ 11:00 컴퓨팅적사고와 기초코딩\n",
            "11:10 ~ 12:00 전공 발표수업\n",
            "12:00 ~ 1:00 점심식사\n",
            "2:00 ~ 6:00 시험공부\n",
            "6:00 ~ 6:30 저녁식사\n",
            "6:30 ~ 10:00 공부\n",
            "10:00 ~ 7:00 취침\n"
          ]
        }
      ]
    }
  ]
}