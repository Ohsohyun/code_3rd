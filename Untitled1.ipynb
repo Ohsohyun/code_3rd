{
  "nbformat": 4,
  "nbformat_minor": 0,
  "metadata": {
    "colab": {
      "provenance": [],
      "authorship_tag": "ABX9TyN//zjfxUbmTqgBIfNy8Woc",
      "include_colab_link": true
    },
    "kernelspec": {
      "name": "python3",
      "display_name": "Python 3"
    },
    "language_info": {
      "name": "python"
    }
  },
  "cells": [
    {
      "cell_type": "markdown",
      "metadata": {
        "id": "view-in-github",
        "colab_type": "text"
      },
      "source": [
        "<a href=\"https://colab.research.google.com/github/Ohsohyun/code_3rd/blob/main/Untitled1.ipynb\" target=\"_parent\"><img src=\"https://colab.research.google.com/assets/colab-badge.svg\" alt=\"Open In Colab\"/></a>"
      ]
    },
    {
      "cell_type": "code",
      "execution_count": 3,
      "metadata": {
        "colab": {
          "base_uri": "https://localhost:8080/"
        },
        "id": "HeGPU-FfYraI",
        "outputId": "cfa8ec0d-2a34-437d-a22d-44f57bb9880c"
      },
      "outputs": [
        {
          "output_type": "stream",
          "name": "stdout",
          "text": [
            "    October 2023\n",
            "Mo Tu We Th Fr Sa Su\n",
            "                   1\n",
            " 2  3  4  5  6  7  8\n",
            " 9 10 11 12 13 14 15\n",
            "16 17 18 19 20 21 22\n",
            "23 24 25 26 27 28 29\n",
            "30 31\n",
            "\n"
          ]
        }
      ],
      "source": [
        "import calendar\n",
        "yy = 2023\n",
        "mm = 10\n",
        "print(calendar.month(yy,mm))"
      ]
    },
    {
      "cell_type": "markdown",
      "source": [
        "2023년 10월 19일 To Do List\n",
        "- 09:10 ~ 11:00 컴퓨팅적사고와 기초코딩\n",
        "- 11:10 ~ 12:00 전공 발표수업\n",
        "- 12:00 ~ 1:00 점심식사\n",
        "- 1:00 ~ 6:00 시험공부\n",
        "- 6:00 ~ 6:30 저녁식사\n",
        "- 6:30 ~ 10:00 공부\n",
        "- 10:00 ~ 7:00 취침"
      ],
      "metadata": {
        "id": "sAOnuXXngP7C"
      }
    },
    {
      "cell_type": "code",
      "source": [
        "print(\"2023년 10월 19일 To Do List\")\n",
        "\n",
        "print(\"09:10 ~ 11:00 컴퓨팅적사고와 기초코딩\")\n",
        "print(\"11:10 ~ 12:00 전공 발표수업\")\n",
        "print(\"12:00 ~ 1:00 점심식사\")\n",
        "print(\"2:00 ~ 6:00 시험공부\")\n",
        "print(\"6:00 ~ 6:30 저녁식사\")\n",
        "print(\"6:30 ~ 10:00 공부\")\n",
        "print(\"10:00 ~ 7:00 취침\")"
      ],
      "metadata": {
        "colab": {
          "base_uri": "https://localhost:8080/"
        },
        "id": "zM2t903SasjS",
        "outputId": "c67da652-5e03-4c30-f6c2-7b9fbfae783d"
      },
      "execution_count": 5,
      "outputs": [
        {
          "output_type": "stream",
          "name": "stdout",
          "text": [
            "2023년 10월 19일 To Do List\n",
            "09:10 ~ 11:00 컴퓨팅적사고와 기초코딩\n",
            "11:10 ~ 12:00 전공 발표수업\n",
            "12:00 ~ 1:00 점심식사\n",
            "2:00 ~ 6:00 시험공부\n",
            "6:00 ~ 6:30 저녁식사\n",
            "6:30 ~ 10:00 공부\n",
            "10:00 ~ 7:00 취침\n"
          ]
        }
      ]
    }
  ]
}