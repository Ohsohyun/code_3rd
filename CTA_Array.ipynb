{
  "nbformat": 4,
  "nbformat_minor": 0,
  "metadata": {
    "colab": {
      "provenance": [],
      "authorship_tag": "ABX9TyPxNgsxlkalrNc3Pryw1rwi",
      "include_colab_link": true
    },
    "kernelspec": {
      "name": "python3",
      "display_name": "Python 3"
    },
    "language_info": {
      "name": "python"
    }
  },
  "cells": [
    {
      "cell_type": "markdown",
      "metadata": {
        "id": "view-in-github",
        "colab_type": "text"
      },
      "source": [
        "<a href=\"https://colab.research.google.com/github/Ohsohyun/code_3rd/blob/main/CTA_Array.ipynb\" target=\"_parent\"><img src=\"https://colab.research.google.com/assets/colab-badge.svg\" alt=\"Open In Colab\"/></a>"
      ]
    },
    {
      "cell_type": "markdown",
      "source": [
        "1. 배열의 선언\n",
        " - 일반 변수의 선언: 변수명 = 변수의 값\n",
        " - 배열의 변수 선언: 변수명 = [ , , ]"
      ],
      "metadata": {
        "id": "xO20aI-dC-SE"
      }
    },
    {
      "cell_type": "code",
      "execution_count": 1,
      "metadata": {
        "colab": {
          "base_uri": "https://localhost:8080/"
        },
        "id": "A5ZeTOqrC2kv",
        "outputId": "715c90ae-0d68-47e5-e7d1-2c5ecc7defb3"
      },
      "outputs": [
        {
          "output_type": "stream",
          "name": "stdout",
          "text": [
            "아바타\n",
            "어벤저스\n"
          ]
        }
      ],
      "source": [
        "movie_list = [\"아바타\", \"타이타닉\", \"스타워즈\", \"주라기월드\", \"어벤저스\"]\n",
        "\n",
        "print(movie_list[0])  # movie_list의 첫 번째 요소를 출력합니다. 인덱스는 0부터 시작하므로 \"아바타\"가 출력됩니다.\n",
        "print(movie_list[4])  # movie_list의 다섯 번째 요소를 출력합니다. 인덱스는 0부터 시작하므로 \"어벤저스\"가 출력됩니다."
      ]
    },
    {
      "cell_type": "markdown",
      "source": [
        "\n",
        "2. 요일을 배열로 선언하라.\n",
        " - 변수명: day_list\n",
        " - 요일 : 월(mon), 화(Tues), 수(Wed.), 목(Thur.), 금(Fri.), 토(Sat.), 일(Sun.)"
      ],
      "metadata": {
        "id": "k5OXUj3gDGUM"
      }
    },
    {
      "cell_type": "code",
      "source": [
        "day_list = [\"월(mon)\", \"화(Tues)\", \"수(Wed.)\", \"목(Thur.)\", \"금(Fri.)\", \"토(Sat.)\", \"일(Sun.)\"]\n",
        "\n",
        "print(day_list[0])  # day_list의 첫 번째 요소를 출력합니다. 인덱스는 0부터 시작하므로 \"월(mon)\"이 출력됩니다.\n",
        "print(day_list[1])  # day_list의 두 번째 요소를 출력합니다. 인덱스는 0부터 시작하므로 \"화(Tues)\"가 출력됩니다.\n"
      ],
      "metadata": {
        "colab": {
          "base_uri": "https://localhost:8080/"
        },
        "id": "lZk6kb2bDN2V",
        "outputId": "eb705b11-8005-4bda-b9be-f01324ca9dc0"
      },
      "execution_count": 2,
      "outputs": [
        {
          "output_type": "stream",
          "name": "stdout",
          "text": [
            "월(mon)\n",
            "화(Tues)\n"
          ]
        }
      ]
    }
  ]
}